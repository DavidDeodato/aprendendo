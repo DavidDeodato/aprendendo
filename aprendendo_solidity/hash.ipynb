{
 "cells": [
  {
   "cell_type": "code",
   "execution_count": null,
   "metadata": {},
   "outputs": [],
   "source": [
    "##criando tabela vazia com 10 posicoes\n",
    "tabela = [None] * 10\n",
    "\n",
    "\n",
    "##criando a funcao para hash (indice simples)\n",
    "def hash_func(chave):\n",
    "    return sum([ord(c) for c in chave]) % len(tabela)\n",
    "\n",
    "\n",
    "# inserindo um valor na tabela\n",
    "def insere(chave, valor):\n",
    "    indice_tabela_hash = hash_func(chave)\n",
    "    ## verificando colisão de po sição \n",
    "    if tabela[indice_tabela_hash] is not None:\n",
    "        print(f\"Colisão detectada para a porra da chave {chave}. Vai se fuder seu merda, vou tratar esse cacete aqui.\")\n",
    "        # tentando colocar no indice da frente\n",
    "        while tabela[indice_tabela_hash] is not None:\n",
    "            indice_tabela_hash = indice_tabela_hash + 1\n",
    "            if indice_tabela_hash >= len(tabela):\n",
    "                indice_tabela_hash = 0\n",
    "                print(\"Voltei pro começo da tabela, caralho!. Vsf seu porra, não tem espaço livre, parece ônibus\")\n",
    "\n",
    "\n",
    "\n",
    "    tabela[indice_tabela_hash] = (chave, valor)\n",
    "\n",
    "\n",
    "def buscar(chave):\n",
    "    indice_tabela_hash = hash_func(chave)\n",
    "    if tabela[indice_tabela_hash] is not None:\n",
    "        return tabela[indice_tabela_hash][1]\n",
    "    else:\n",
    "        return None\n",
    "\n",
    "        \n"
   ]
  },
  {
   "cell_type": "code",
   "execution_count": null,
   "metadata": {},
   "outputs": [],
   "source": [
    "##chamado\n",
    "\n",
    "##criando loop para adicionar quantos valores quiser\n",
    "\n",
    "while True: \n",
    "    pergunta = input(\"adicione alguns indices (chave, valor) na tabela hash: (sair para sair)\")\n",
    "\n",
    "    if pergunta == 'sair':\n",
    "        break\n",
    "    # separando chave e valor\n",
    "    print('log [seperando chave e valor]\\n')\n",
    "    chave, valor = pergunta.split(\",\")\n",
    "    ## tirando espaço\n",
    "    print(f'chave: {chave}\\n')\n",
    "    chave = chave.strip()\n",
    "    # tirando espaço do valor\n",
    "    print(f'valor: {valor}\\n')\n",
    "    valor = valor.strip()\n",
    "\n",
    "\n",
    "    # adicionando na tabela hash\n",
    "    insere(chave, valor)\n",
    "    print(\"Tabela atual:\", tabela)\n",
    "\n",
    "    \n",
    "\n",
    "\n",
    "chave = input(\"Digite a chave que deseja buscar: \")\n",
    "valor = buscar(chave)\n",
    "if valor is not None:\n",
    "    print(f\"Valor encontrado: {valor}\")\n",
    "else:\n",
    "    print(\"Chave não encontrada.\")\n"
   ]
  }
 ],
 "metadata": {
  "kernelspec": {
   "display_name": "Python 3",
   "language": "python",
   "name": "python3"
  },
  "language_info": {
   "codemirror_mode": {
    "name": "ipython",
    "version": 3
   },
   "file_extension": ".py",
   "mimetype": "text/x-python",
   "name": "python",
   "nbconvert_exporter": "python",
   "pygments_lexer": "ipython3",
   "version": "3.12.0"
  }
 },
 "nbformat": 4,
 "nbformat_minor": 2
}
